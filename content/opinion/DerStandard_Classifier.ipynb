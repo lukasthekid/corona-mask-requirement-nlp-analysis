{
 "cells": [
  {
   "cell_type": "code",
   "execution_count": 1,
   "id": "16ecc381-ee29-4c61-b7f5-f35096165ee1",
   "metadata": {},
   "outputs": [],
   "source": [
    "import nltk\n",
    "import numpy as np\n",
    "import pandas as pd\n",
    "import codecs\n",
    "import json\n",
    "import glob"
   ]
  },
  {
   "cell_type": "code",
   "execution_count": 2,
   "id": "35033f63-6ce9-46fd-bbb5-b062921d0f11",
   "metadata": {},
   "outputs": [
    {
     "name": "stdout",
     "output_type": "stream",
     "text": [
      "ID_GodotObject     int64\n",
      "rtrJSON           object\n",
      "dtype: object\n"
     ]
    },
    {
     "data": {
      "text/html": [
       "<div>\n",
       "<style scoped>\n",
       "    .dataframe tbody tr th:only-of-type {\n",
       "        vertical-align: middle;\n",
       "    }\n",
       "\n",
       "    .dataframe tbody tr th {\n",
       "        vertical-align: top;\n",
       "    }\n",
       "\n",
       "    .dataframe thead th {\n",
       "        text-align: right;\n",
       "    }\n",
       "</style>\n",
       "<table border=\"1\" class=\"dataframe\">\n",
       "  <thead>\n",
       "    <tr style=\"text-align: right;\">\n",
       "      <th></th>\n",
       "      <th>ID_GodotObject</th>\n",
       "      <th>rtrJSON</th>\n",
       "    </tr>\n",
       "  </thead>\n",
       "  <tbody>\n",
       "    <tr>\n",
       "      <th>0</th>\n",
       "      <td>2000120059197</td>\n",
       "      <td>[{\"s\":\"keyword\",\"k\":\"Coronavirus\",\"v\":155.4460...</td>\n",
       "    </tr>\n",
       "    <tr>\n",
       "      <th>1</th>\n",
       "      <td>2000120089418</td>\n",
       "      <td>[{\"s\":\"event\",\"k\":\"Corona-Pandemie\",\"v\":20.713...</td>\n",
       "    </tr>\n",
       "    <tr>\n",
       "      <th>2</th>\n",
       "      <td>2000122402488</td>\n",
       "      <td>[{\"s\":\"keyword\",\"k\":\"Maskenpflicht\",\"v\":169.89...</td>\n",
       "    </tr>\n",
       "    <tr>\n",
       "      <th>3</th>\n",
       "      <td>2000120100164</td>\n",
       "      <td>[{\"s\":\"keyword\",\"k\":\"Sperrstunde\",\"v\":93.19406...</td>\n",
       "    </tr>\n",
       "    <tr>\n",
       "      <th>4</th>\n",
       "      <td>2000122440975</td>\n",
       "      <td>[{\"s\":\"keyword\",\"k\":\"Testbeteiligung\",\"v\":96.4...</td>\n",
       "    </tr>\n",
       "  </tbody>\n",
       "</table>\n",
       "</div>"
      ],
      "text/plain": [
       "   ID_GodotObject                                            rtrJSON\n",
       "0   2000120059197  [{\"s\":\"keyword\",\"k\":\"Coronavirus\",\"v\":155.4460...\n",
       "1   2000120089418  [{\"s\":\"event\",\"k\":\"Corona-Pandemie\",\"v\":20.713...\n",
       "2   2000122402488  [{\"s\":\"keyword\",\"k\":\"Maskenpflicht\",\"v\":169.89...\n",
       "3   2000120100164  [{\"s\":\"keyword\",\"k\":\"Sperrstunde\",\"v\":93.19406...\n",
       "4   2000122440975  [{\"s\":\"keyword\",\"k\":\"Testbeteiligung\",\"v\":96.4..."
      ]
     },
     "execution_count": 2,
     "metadata": {},
     "output_type": "execute_result"
    }
   ],
   "source": [
    "#exported frame from Database\n",
    "\n",
    "doc = codecs.open('../../../data/classifiedContent.csv','rU','UTF-16') #open for reading with \"universal\" type set\n",
    "df = pd.read_csv(doc, sep='\\t')\n",
    "\n",
    "#fix unicode umlaute\n",
    "# Define a function to replace the Unicode character codes with their corresponding characters\n",
    "def replace_unicode(s):\n",
    "    return s.encode('utf-8').decode('unicode_escape')\n",
    "\n",
    "# Apply the function to the 'country' column of the dataframe\n",
    "df['rtrJSON'] = df['rtrJSON'].apply(replace_unicode)\n",
    "\n",
    "print(df.dtypes)\n",
    "df.head()"
   ]
  },
  {
   "cell_type": "code",
   "execution_count": 8,
   "id": "d593c907-6880-4241-b101-2382284e80a2",
   "metadata": {},
   "outputs": [
    {
     "data": {
      "text/plain": [
       "'[{\"s\":\"keyword\",\"k\":\"Neuinfektion\",\"v\":98.73378},{\"s\":\"keyword\",\"k\":\"Arztpraxis\",\"v\":84.17109},{\"s\":\"keyword\",\"k\":\"Coronavirus\",\"v\":49.601624},{\"s\":\"keyword\",\"k\":\"COVID-19\",\"v\":14.528863},{\"s\":\"keyword\",\"k\":\"Corona-Krise\",\"v\":10.772496},{\"s\":\"location\",\"k\":\"Wien\",\"v\":85.202034},{\"s\":\"location\",\"k\":\"Österreich\",\"v\":52.750423},{\"s\":\"location\",\"k\":\"Niederösterreich\",\"v\":43.43803},{\"s\":\"location\",\"k\":\"Tschechien\",\"v\":24.533108},{\"s\":\"location\",\"k\":\"Reichenau an der Rax\",\"v\":8.612054},{\"s\":\"location\",\"k\":\"München\",\"v\":6.10781},{\"s\":\"organisation\",\"k\":\"ÖVP\",\"v\":10.055179},{\"s\":\"organisation\",\"k\":\"ČTK\",\"v\":6.205433},{\"s\":\"person\",\"k\":\"Roman Prymula\",\"v\":14.787776},{\"s\":\"person\",\"k\":\"Karl Nehammer\",\"v\":10.288625},{\"s\":\"person\",\"k\":\"Susanne Raab\",\"v\":10.140068},{\"s\":\"person\",\"k\":\"Irmgard Lechner\",\"v\":7.6528015},{\"s\":\"person\",\"k\":\"Miloš Zeman\",\"v\":7.122241},{\"s\":\"person\",\"k\":\"Andrej Babiš\",\"v\":6.320034}]'"
      ]
     },
     "execution_count": 8,
     "metadata": {},
     "output_type": "execute_result"
    }
   ],
   "source": [
    "obj = df['rtrJSON'][10]\n",
    "obj"
   ]
  },
  {
   "cell_type": "code",
   "execution_count": null,
   "id": "cb5c6a64-44e2-462e-a5fd-ee71dfa41ea3",
   "metadata": {},
   "outputs": [],
   "source": []
  },
  {
   "cell_type": "code",
   "execution_count": 4,
   "id": "221e12f2-4ce1-4e27-827a-fe4beca983c9",
   "metadata": {},
   "outputs": [],
   "source": [
    "def join_tags_easy(s):\n",
    "    data = json.loads(s)\n",
    "    result = ','.join([d['k'] for d in data if d['k'] is not None])\n",
    "    return result\n",
    "\n",
    "\n",
    "#function for joining words to a list\n",
    "def join_tags(s, tag_list):\n",
    "    data = json.loads(s)\n",
    "    tags = [d['k'] for d in data if d['k'] not in tag_list and d['k'] is not None]\n",
    "    tag_list = tag_list + tags\n",
    "    return tag_list"
   ]
  },
  {
   "cell_type": "code",
   "execution_count": 5,
   "id": "e19aba1b-0a95-438a-be84-90f5d5cdada8",
   "metadata": {},
   "outputs": [
    {
     "data": {
      "text/html": [
       "<div>\n",
       "<style scoped>\n",
       "    .dataframe tbody tr th:only-of-type {\n",
       "        vertical-align: middle;\n",
       "    }\n",
       "\n",
       "    .dataframe tbody tr th {\n",
       "        vertical-align: top;\n",
       "    }\n",
       "\n",
       "    .dataframe thead th {\n",
       "        text-align: right;\n",
       "    }\n",
       "</style>\n",
       "<table border=\"1\" class=\"dataframe\">\n",
       "  <thead>\n",
       "    <tr style=\"text-align: right;\">\n",
       "      <th></th>\n",
       "      <th>ID_GodotObject</th>\n",
       "      <th>rtrJSON</th>\n",
       "      <th>tags</th>\n",
       "    </tr>\n",
       "  </thead>\n",
       "  <tbody>\n",
       "    <tr>\n",
       "      <th>0</th>\n",
       "      <td>2000120059197</td>\n",
       "      <td>[{\"s\":\"keyword\",\"k\":\"Coronavirus\",\"v\":155.4460...</td>\n",
       "      <td>Coronavirus,Tagesüberblick,Ampelschaltung,Gast...</td>\n",
       "    </tr>\n",
       "    <tr>\n",
       "      <th>1</th>\n",
       "      <td>2000120089418</td>\n",
       "      <td>[{\"s\":\"event\",\"k\":\"Corona-Pandemie\",\"v\":20.713...</td>\n",
       "      <td>Corona-Pandemie,Wiener Ballsaison,Wiener Opern...</td>\n",
       "    </tr>\n",
       "    <tr>\n",
       "      <th>2</th>\n",
       "      <td>2000122402488</td>\n",
       "      <td>[{\"s\":\"keyword\",\"k\":\"Maskenpflicht\",\"v\":169.89...</td>\n",
       "      <td>Maskenpflicht,Silvesterfeiern,Tagesüberblick,C...</td>\n",
       "    </tr>\n",
       "    <tr>\n",
       "      <th>3</th>\n",
       "      <td>2000120100164</td>\n",
       "      <td>[{\"s\":\"keyword\",\"k\":\"Sperrstunde\",\"v\":93.19406...</td>\n",
       "      <td>Sperrstunde,Maskenpflicht,Regelpaket,COVID-19,...</td>\n",
       "    </tr>\n",
       "    <tr>\n",
       "      <th>4</th>\n",
       "      <td>2000122440975</td>\n",
       "      <td>[{\"s\":\"keyword\",\"k\":\"Testbeteiligung\",\"v\":96.4...</td>\n",
       "      <td>Testbeteiligung,Tagesüberblick,Massentest,Anre...</td>\n",
       "    </tr>\n",
       "  </tbody>\n",
       "</table>\n",
       "</div>"
      ],
      "text/plain": [
       "   ID_GodotObject                                            rtrJSON  \\\n",
       "0   2000120059197  [{\"s\":\"keyword\",\"k\":\"Coronavirus\",\"v\":155.4460...   \n",
       "1   2000120089418  [{\"s\":\"event\",\"k\":\"Corona-Pandemie\",\"v\":20.713...   \n",
       "2   2000122402488  [{\"s\":\"keyword\",\"k\":\"Maskenpflicht\",\"v\":169.89...   \n",
       "3   2000120100164  [{\"s\":\"keyword\",\"k\":\"Sperrstunde\",\"v\":93.19406...   \n",
       "4   2000122440975  [{\"s\":\"keyword\",\"k\":\"Testbeteiligung\",\"v\":96.4...   \n",
       "\n",
       "                                                tags  \n",
       "0  Coronavirus,Tagesüberblick,Ampelschaltung,Gast...  \n",
       "1  Corona-Pandemie,Wiener Ballsaison,Wiener Opern...  \n",
       "2  Maskenpflicht,Silvesterfeiern,Tagesüberblick,C...  \n",
       "3  Sperrstunde,Maskenpflicht,Regelpaket,COVID-19,...  \n",
       "4  Testbeteiligung,Tagesüberblick,Massentest,Anre...  "
      ]
     },
     "execution_count": 5,
     "metadata": {},
     "output_type": "execute_result"
    }
   ],
   "source": [
    "df_join = df.copy()\n",
    "df_join['tags'] = df_join['rtrJSON'].apply(join_tags_easy)\n",
    "df_join[['ID_GodotObject','tags']].to_csv('../../data/feature/supervise_classified_content.csv', encoding='utf-8', index=False)\n",
    "df_join.head()"
   ]
  },
  {
   "cell_type": "code",
   "execution_count": 6,
   "id": "c8a572ad-9f11-459e-944d-67f491f5320f",
   "metadata": {},
   "outputs": [
    {
     "data": {
      "text/plain": [
       "['Coronavirus',\n",
       " 'Tagesüberblick',\n",
       " 'Ampelschaltung',\n",
       " 'Gastronomie',\n",
       " 'Sozialkontakt',\n",
       " 'Salzburg',\n",
       " 'Eisenstadt',\n",
       " 'Österreich',\n",
       " 'Wien',\n",
       " 'Dänemark']"
      ]
     },
     "execution_count": 6,
     "metadata": {},
     "output_type": "execute_result"
    }
   ],
   "source": [
    "vals = df['rtrJSON'].values\n",
    "\n",
    "tags = []\n",
    "for i in vals:\n",
    "    tags =join_tags(i, tags)\n",
    "    \n",
    "tags[0:10]\n"
   ]
  },
  {
   "cell_type": "code",
   "execution_count": 7,
   "id": "970d45c1-0f3e-4099-9661-e806ab59af0e",
   "metadata": {},
   "outputs": [
    {
     "name": "stderr",
     "output_type": "stream",
     "text": [
      "C:\\Users\\e11925939\\AppData\\Local\\Temp\\8\\ipykernel_37276\\3488700007.py:20: FutureWarning: The frame.append method is deprecated and will be removed from pandas in a future version. Use pandas.concat instead.\n",
      "  df_classified_clusters = df_classified_clusters.append({'cluster' : c, 'tags' : tags_text}, ignore_index = True)\n",
      "C:\\Users\\e11925939\\AppData\\Local\\Temp\\8\\ipykernel_37276\\3488700007.py:20: FutureWarning: The frame.append method is deprecated and will be removed from pandas in a future version. Use pandas.concat instead.\n",
      "  df_classified_clusters = df_classified_clusters.append({'cluster' : c, 'tags' : tags_text}, ignore_index = True)\n",
      "C:\\Users\\e11925939\\AppData\\Local\\Temp\\8\\ipykernel_37276\\3488700007.py:20: FutureWarning: The frame.append method is deprecated and will be removed from pandas in a future version. Use pandas.concat instead.\n",
      "  df_classified_clusters = df_classified_clusters.append({'cluster' : c, 'tags' : tags_text}, ignore_index = True)\n",
      "C:\\Users\\e11925939\\AppData\\Local\\Temp\\8\\ipykernel_37276\\3488700007.py:20: FutureWarning: The frame.append method is deprecated and will be removed from pandas in a future version. Use pandas.concat instead.\n",
      "  df_classified_clusters = df_classified_clusters.append({'cluster' : c, 'tags' : tags_text}, ignore_index = True)\n",
      "C:\\Users\\e11925939\\AppData\\Local\\Temp\\8\\ipykernel_37276\\3488700007.py:20: FutureWarning: The frame.append method is deprecated and will be removed from pandas in a future version. Use pandas.concat instead.\n",
      "  df_classified_clusters = df_classified_clusters.append({'cluster' : c, 'tags' : tags_text}, ignore_index = True)\n",
      "C:\\Users\\e11925939\\AppData\\Local\\Temp\\8\\ipykernel_37276\\3488700007.py:20: FutureWarning: The frame.append method is deprecated and will be removed from pandas in a future version. Use pandas.concat instead.\n",
      "  df_classified_clusters = df_classified_clusters.append({'cluster' : c, 'tags' : tags_text}, ignore_index = True)\n",
      "C:\\Users\\e11925939\\AppData\\Local\\Temp\\8\\ipykernel_37276\\3488700007.py:20: FutureWarning: The frame.append method is deprecated and will be removed from pandas in a future version. Use pandas.concat instead.\n",
      "  df_classified_clusters = df_classified_clusters.append({'cluster' : c, 'tags' : tags_text}, ignore_index = True)\n",
      "C:\\Users\\e11925939\\AppData\\Local\\Temp\\8\\ipykernel_37276\\3488700007.py:20: FutureWarning: The frame.append method is deprecated and will be removed from pandas in a future version. Use pandas.concat instead.\n",
      "  df_classified_clusters = df_classified_clusters.append({'cluster' : c, 'tags' : tags_text}, ignore_index = True)\n"
     ]
    },
    {
     "data": {
      "text/html": [
       "<div>\n",
       "<style scoped>\n",
       "    .dataframe tbody tr th:only-of-type {\n",
       "        vertical-align: middle;\n",
       "    }\n",
       "\n",
       "    .dataframe tbody tr th {\n",
       "        vertical-align: top;\n",
       "    }\n",
       "\n",
       "    .dataframe thead th {\n",
       "        text-align: right;\n",
       "    }\n",
       "</style>\n",
       "<table border=\"1\" class=\"dataframe\">\n",
       "  <thead>\n",
       "    <tr style=\"text-align: right;\">\n",
       "      <th></th>\n",
       "      <th>cluster</th>\n",
       "      <th>tags</th>\n",
       "    </tr>\n",
       "  </thead>\n",
       "  <tbody>\n",
       "    <tr>\n",
       "      <th>0</th>\n",
       "      <td>0</td>\n",
       "      <td>Veranstaltungsbegrenzung,Schutzmaßnahme,COVID-...</td>\n",
       "    </tr>\n",
       "    <tr>\n",
       "      <th>1</th>\n",
       "      <td>1</td>\n",
       "      <td>Corona-Pandemie,Pandemie,Infektionszahl,Eva Sc...</td>\n",
       "    </tr>\n",
       "    <tr>\n",
       "      <th>2</th>\n",
       "      <td>2</td>\n",
       "      <td>Corona-Pandemie,Wiener Ballsaison,Wiener Opern...</td>\n",
       "    </tr>\n",
       "    <tr>\n",
       "      <th>3</th>\n",
       "      <td>3</td>\n",
       "      <td>Wiener Ballsaison,Corona-Pandemie,Coronavirus,...</td>\n",
       "    </tr>\n",
       "    <tr>\n",
       "      <th>4</th>\n",
       "      <td>4</td>\n",
       "      <td>Pandemiebekämpfung,Mückstein,Impfung,Pandemie,...</td>\n",
       "    </tr>\n",
       "  </tbody>\n",
       "</table>\n",
       "</div>"
      ],
      "text/plain": [
       "   cluster                                               tags\n",
       "0        0  Veranstaltungsbegrenzung,Schutzmaßnahme,COVID-...\n",
       "1        1  Corona-Pandemie,Pandemie,Infektionszahl,Eva Sc...\n",
       "2        2  Corona-Pandemie,Wiener Ballsaison,Wiener Opern...\n",
       "3        3  Wiener Ballsaison,Corona-Pandemie,Coronavirus,...\n",
       "4        4  Pandemiebekämpfung,Mückstein,Impfung,Pandemie,..."
      ]
     },
     "execution_count": 7,
     "metadata": {},
     "output_type": "execute_result"
    }
   ],
   "source": [
    "# Merge all text per cluster\n",
    "# Find all CSV files in the current directory\n",
    "filenames = glob.glob('../../data/feature/clusters/*.csv')\n",
    "\n",
    "# Create a list to store the dataframes\n",
    "df_classified_clusters = pd.DataFrame()\n",
    "\n",
    "# Loop over the CSV files\n",
    "for filename in filenames:\n",
    "    # Read the file of a cluster into a dataframe\n",
    "    df_c = pd.read_csv(filename)\n",
    "    df_c = pd.merge(df, df_c[['ID_GodotObject','cluster_value']], on =\"ID_GodotObject\")\n",
    "    vals = df_c['rtrJSON'].values\n",
    "    tags = []\n",
    "    for i in vals:\n",
    "        tags =join_tags(i, tags)\n",
    "    \n",
    "    tags_text = ','.join(tags)\n",
    "    c = df_c['cluster_value'][0]\n",
    "    df_classified_clusters = df_classified_clusters.append({'cluster' : c, 'tags' : tags_text}, ignore_index = True)\n",
    "    \n",
    "df_classified_clusters.sort_values(by=['cluster'], inplace=True)\n",
    "df_classified_clusters.reset_index(drop=True, inplace=True)\n",
    "df_classified_clusters.to_csv('../../data/feature/supervise_clustered_content.csv', encoding='utf-8', index=False)\n",
    "df_classified_clusters.head()"
   ]
  },
  {
   "cell_type": "code",
   "execution_count": null,
   "id": "41daa5d2-e390-420a-9c66-858b0c606cc0",
   "metadata": {},
   "outputs": [],
   "source": [
    "## Evaluation of the tags\n",
    "\n",
    "# 0 -> Veranstaltungsbegrenzung, Gastronomie, Dienstleistung\n",
    "# 1 -> Verfassungsgerichtshof, Infektionszahl\n",
    "# 2 -> Opernball,Reisewarnung Reisen\n",
    "# 3 -> Intensivstation, Impfung, Herbert Kickl, Schulstart\n",
    "# 4 -> Skigebiet, Testmöglichkeit\n",
    "# 5 -> Massentest, Neuinfektion, Mindestabstand, Verordnung\n",
    "# 6 -> Impfstatus, Schulbeginn, BioNTech,Pfizer\n",
    "# 7 -> Protestzug, Rechtsextrem, Kundgebung"
   ]
  }
 ],
 "metadata": {
  "kernelspec": {
   "display_name": "Python 3 (ipykernel)",
   "language": "python",
   "name": "python3"
  },
  "language_info": {
   "codemirror_mode": {
    "name": "ipython",
    "version": 3
   },
   "file_extension": ".py",
   "mimetype": "text/x-python",
   "name": "python",
   "nbconvert_exporter": "python",
   "pygments_lexer": "ipython3",
   "version": "3.10.9"
  }
 },
 "nbformat": 4,
 "nbformat_minor": 5
}
