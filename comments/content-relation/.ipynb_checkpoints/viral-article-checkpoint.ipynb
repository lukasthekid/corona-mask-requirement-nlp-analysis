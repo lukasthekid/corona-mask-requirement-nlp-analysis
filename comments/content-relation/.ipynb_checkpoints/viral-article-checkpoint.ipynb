{
 "cells": [
  {
   "cell_type": "code",
   "execution_count": 2,
   "id": "6da2889a-589a-458e-8c24-7b069d0ef7ac",
   "metadata": {},
   "outputs": [],
   "source": [
    "\n",
    "import numpy as np\n",
    "import pandas as pd\n",
    "import matplotlib.pyplot as plt\n",
    "%matplotlib inline"
   ]
  },
  {
   "cell_type": "code",
   "execution_count": 3,
   "id": "26a6f5b3-fdd0-41cf-9889-c020f9957c2e",
   "metadata": {},
   "outputs": [
    {
     "data": {
      "text/html": [
       "<div>\n",
       "<style scoped>\n",
       "    .dataframe tbody tr th:only-of-type {\n",
       "        vertical-align: middle;\n",
       "    }\n",
       "\n",
       "    .dataframe tbody tr th {\n",
       "        vertical-align: top;\n",
       "    }\n",
       "\n",
       "    .dataframe thead th {\n",
       "        text-align: right;\n",
       "    }\n",
       "</style>\n",
       "<table border=\"1\" class=\"dataframe\">\n",
       "  <thead>\n",
       "    <tr style=\"text-align: right;\">\n",
       "      <th></th>\n",
       "      <th>ID_Posting</th>\n",
       "      <th>publishingDate</th>\n",
       "      <th>ID_GodotObject</th>\n",
       "      <th>month</th>\n",
       "      <th>year</th>\n",
       "    </tr>\n",
       "  </thead>\n",
       "  <tbody>\n",
       "    <tr>\n",
       "      <th>0</th>\n",
       "      <td>1051994953</td>\n",
       "      <td>2020-03-30 05:36:31.240</td>\n",
       "      <td>2000116305030</td>\n",
       "      <td>3</td>\n",
       "      <td>2020</td>\n",
       "    </tr>\n",
       "    <tr>\n",
       "      <th>1</th>\n",
       "      <td>1051995032</td>\n",
       "      <td>2020-03-30 05:36:31.240</td>\n",
       "      <td>2000116305030</td>\n",
       "      <td>3</td>\n",
       "      <td>2020</td>\n",
       "    </tr>\n",
       "    <tr>\n",
       "      <th>2</th>\n",
       "      <td>1051995057</td>\n",
       "      <td>2020-03-30 05:36:31.240</td>\n",
       "      <td>2000116305030</td>\n",
       "      <td>3</td>\n",
       "      <td>2020</td>\n",
       "    </tr>\n",
       "    <tr>\n",
       "      <th>3</th>\n",
       "      <td>1051995172</td>\n",
       "      <td>2020-03-30 05:36:31.240</td>\n",
       "      <td>2000116305030</td>\n",
       "      <td>3</td>\n",
       "      <td>2020</td>\n",
       "    </tr>\n",
       "    <tr>\n",
       "      <th>4</th>\n",
       "      <td>1051995270</td>\n",
       "      <td>2020-03-30 05:36:31.240</td>\n",
       "      <td>2000116305030</td>\n",
       "      <td>3</td>\n",
       "      <td>2020</td>\n",
       "    </tr>\n",
       "  </tbody>\n",
       "</table>\n",
       "</div>"
      ],
      "text/plain": [
       "   ID_Posting          publishingDate  ID_GodotObject  month  year\n",
       "0  1051994953 2020-03-30 05:36:31.240   2000116305030      3  2020\n",
       "1  1051995032 2020-03-30 05:36:31.240   2000116305030      3  2020\n",
       "2  1051995057 2020-03-30 05:36:31.240   2000116305030      3  2020\n",
       "3  1051995172 2020-03-30 05:36:31.240   2000116305030      3  2020\n",
       "4  1051995270 2020-03-30 05:36:31.240   2000116305030      3  2020"
      ]
     },
     "execution_count": 3,
     "metadata": {},
     "output_type": "execute_result"
    }
   ],
   "source": [
    "df = pd.read_csv('../../data/p_comment.csv')\n",
    "df1 = pd.read_csv('../../data/p_content.csv')\n",
    "result = pd.merge(df, df1, on=\"ID_GodotObject\")[['ID_Posting', 'publishingDate', 'ID_GodotObject']]\n",
    "result['publishingDate'] = pd.to_datetime(result['publishingDate'])\n",
    "result['month'] = result['publishingDate'].dt.month\n",
    "result['year'] = result['publishingDate'].dt.year\n",
    "result.head()"
   ]
  },
  {
   "cell_type": "code",
   "execution_count": 4,
   "id": "2a03caa1-9775-48e0-8d98-e5631e14eb53",
   "metadata": {},
   "outputs": [
    {
     "data": {
      "image/png": "[encoded data removed]",
      "text/plain": [
       "<Figure size 1000x600 with 1 Axes>"
      ]
     },
     "metadata": {},
     "output_type": "display_data"
    },
    {
     "name": "stdout",
     "output_type": "stream",
     "text": [
      "year  month\n",
      "2020  3        753\n",
      "      4        542\n",
      "      5        568\n",
      "      6         60\n",
      "      7        192\n",
      "Name: ID_Posting, dtype: int64\n",
      "year  month\n",
      "2020  3        4\n",
      "      4        8\n",
      "      5        6\n",
      "      6        1\n",
      "      7        2\n",
      "Name: ID_GodotObject, dtype: int64\n"
     ]
    }
   ],
   "source": [
    "postings = result.groupby(['year','month'])['ID_Posting'].count()\n",
    "articles = result.groupby(['year','month'])['ID_GodotObject'].nunique()\n",
    "# Divide the number of postings by the number of articles to get the ratio of postings to articles\n",
    "ratio = postings / articles\n",
    "\n",
    "# Plot the ratio as a bar chart\n",
    "ratio.plot.bar(figsize=(10,6), color=plt.cm.Set2.colors[0], width=0.8)\n",
    "\n",
    "# Add a title and axis labels\n",
    "plt.title('Postings per Article by Date')\n",
    "plt.xlabel('Date')\n",
    "plt.ylabel('avg. Postings per Article')\n",
    "\n",
    "# Show the plot\n",
    "plt.savefig('postings_per_article.png', bbox_inches='tight', dpi=300)\n",
    "plt.show()\n",
    "\n",
    "print(postings.head())\n",
    "print(articles.head())"
   ]
  },
  {
   "cell_type": "code",
   "execution_count": 5,
   "id": "8be1ec5b-38d4-42a9-9011-bb1a3534a5f6",
   "metadata": {},
   "outputs": [
    {
     "data": {
      "text/html": [
       "<div>\n",
       "<style scoped>\n",
       "    .dataframe tbody tr th:only-of-type {\n",
       "        vertical-align: middle;\n",
       "    }\n",
       "\n",
       "    .dataframe tbody tr th {\n",
       "        vertical-align: top;\n",
       "    }\n",
       "\n",
       "    .dataframe thead th {\n",
       "        text-align: right;\n",
       "    }\n",
       "</style>\n",
       "<table border=\"1\" class=\"dataframe\">\n",
       "  <thead>\n",
       "    <tr style=\"text-align: right;\">\n",
       "      <th></th>\n",
       "      <th>ID_Posting</th>\n",
       "      <th>publishingDate</th>\n",
       "      <th>ID_GodotObject</th>\n",
       "      <th>month</th>\n",
       "      <th>year</th>\n",
       "      <th>cluster_value</th>\n",
       "    </tr>\n",
       "  </thead>\n",
       "  <tbody>\n",
       "    <tr>\n",
       "      <th>0</th>\n",
       "      <td>1051994953</td>\n",
       "      <td>2020-03-30 05:36:31.240</td>\n",
       "      <td>2000116305030</td>\n",
       "      <td>3</td>\n",
       "      <td>2020</td>\n",
       "      <td>3</td>\n",
       "    </tr>\n",
       "    <tr>\n",
       "      <th>1</th>\n",
       "      <td>1051995032</td>\n",
       "      <td>2020-03-30 05:36:31.240</td>\n",
       "      <td>2000116305030</td>\n",
       "      <td>3</td>\n",
       "      <td>2020</td>\n",
       "      <td>3</td>\n",
       "    </tr>\n",
       "    <tr>\n",
       "      <th>2</th>\n",
       "      <td>1051995057</td>\n",
       "      <td>2020-03-30 05:36:31.240</td>\n",
       "      <td>2000116305030</td>\n",
       "      <td>3</td>\n",
       "      <td>2020</td>\n",
       "      <td>3</td>\n",
       "    </tr>\n",
       "    <tr>\n",
       "      <th>3</th>\n",
       "      <td>1051995172</td>\n",
       "      <td>2020-03-30 05:36:31.240</td>\n",
       "      <td>2000116305030</td>\n",
       "      <td>3</td>\n",
       "      <td>2020</td>\n",
       "      <td>3</td>\n",
       "    </tr>\n",
       "    <tr>\n",
       "      <th>4</th>\n",
       "      <td>1051995270</td>\n",
       "      <td>2020-03-30 05:36:31.240</td>\n",
       "      <td>2000116305030</td>\n",
       "      <td>3</td>\n",
       "      <td>2020</td>\n",
       "      <td>3</td>\n",
       "    </tr>\n",
       "  </tbody>\n",
       "</table>\n",
       "</div>"
      ],
      "text/plain": [
       "   ID_Posting          publishingDate  ID_GodotObject  month  year  \\\n",
       "0  1051994953 2020-03-30 05:36:31.240   2000116305030      3  2020   \n",
       "1  1051995032 2020-03-30 05:36:31.240   2000116305030      3  2020   \n",
       "2  1051995057 2020-03-30 05:36:31.240   2000116305030      3  2020   \n",
       "3  1051995172 2020-03-30 05:36:31.240   2000116305030      3  2020   \n",
       "4  1051995270 2020-03-30 05:36:31.240   2000116305030      3  2020   \n",
       "\n",
       "   cluster_value  \n",
       "0              3  \n",
       "1              3  \n",
       "2              3  \n",
       "3              3  \n",
       "4              3  "
      ]
     },
     "execution_count": 5,
     "metadata": {},
     "output_type": "execute_result"
    }
   ],
   "source": [
    "#find viral article groups\n",
    "df2 = pd.read_csv('../../data/feature/knn_clustering.csv')\n",
    "result1 = pd.merge(result, df2, on=\"ID_GodotObject\")\n",
    "result1.head()"
   ]
  },
  {
   "cell_type": "code",
   "execution_count": 6,
   "id": "4589112d-fe19-42ae-a992-ba7466173ed7",
   "metadata": {},
   "outputs": [
    {
     "name": "stdout",
     "output_type": "stream",
     "text": [
      "year  month  cluster_value\n",
      "2020  3      2                  7.0\n",
      "             3                449.0\n",
      "             4                278.0\n",
      "             6                 19.0\n",
      "      4      0                 13.0\n",
      "dtype: float64\n",
      "year  month  cluster_value\n",
      "2020  3      2                  7\n",
      "             3                449\n",
      "             4                278\n",
      "             6                 19\n",
      "      4      0                 13\n",
      "Name: ID_Posting, dtype: int64\n",
      "year  month  cluster_value\n",
      "2020  3      2                1\n",
      "             3                1\n",
      "             4                1\n",
      "             6                1\n",
      "      4      0                1\n",
      "Name: ID_GodotObject, dtype: int64\n"
     ]
    },
    {
     "data": {
      "image/png": "[encoded data removed]",
      "text/plain": [
       "<Figure size 1000x600 with 1 Axes>"
      ]
     },
     "metadata": {},
     "output_type": "display_data"
    }
   ],
   "source": [
    "postings = result1.groupby(['year','month','cluster_value'])['ID_Posting'].count()\n",
    "articles = result1.groupby(['year','month', 'cluster_value'])['ID_GodotObject'].nunique()\n",
    "# Divide the number of postings by the number of articles to get the ratio of postings to articles\n",
    "ratio = postings / articles\n",
    "\n",
    "print(ratio.head())\n",
    "print(postings.head())\n",
    "print(articles.head())\n",
    "\n",
    "df_gb = ratio.unstack()\n",
    "df_gb.plot(kind='bar', stacked=True, figsize=(10,6), color=plt.cm.Set2.colors, width=0.8)\n",
    "# Get the legend object\n",
    "legend = plt.legend()\n",
    "#plt.legend(bbox_to_anchor=(1.04, 1), loc=\"upper left\")\n",
    "# Change the legend title\n",
    "legend.set_title('Article Group')\n",
    "# Add a title to the plot\n",
    "plt.title('avg. Postings per Topic')\n",
    "\n",
    "# Show the plot\n",
    "plt.savefig('cluster-dist-plot.png', bbox_inches='tight', dpi=300)\n",
    "plt.show()"
   ]
  },
  {
   "cell_type": "code",
   "execution_count": null,
   "id": "02ea0c27-223a-497f-83ba-ef182bc7eda4",
   "metadata": {},
   "outputs": [],
   "source": []
  }
 ],
 "metadata": {
  "kernelspec": {
   "display_name": "Python 3 (ipykernel)",
   "language": "python",
   "name": "python3"
  },
  "language_info": {
   "codemirror_mode": {
    "name": "ipython",
    "version": 3
   },
   "file_extension": ".py",
   "mimetype": "text/x-python",
   "name": "python",
   "nbconvert_exporter": "python",
   "pygments_lexer": "ipython3",
   "version": "3.9.15"
  }
 },
 "nbformat": 4,
 "nbformat_minor": 5
}
