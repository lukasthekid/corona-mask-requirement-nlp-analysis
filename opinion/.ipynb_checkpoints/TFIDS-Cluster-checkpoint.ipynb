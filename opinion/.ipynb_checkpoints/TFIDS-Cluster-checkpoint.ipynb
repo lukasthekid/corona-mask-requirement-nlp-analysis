{
 "cells": [
  {
   "cell_type": "code",
   "execution_count": 70,
   "id": "b11c916d-24f3-46af-93e1-82cf947b33a1",
   "metadata": {},
   "outputs": [
    {
     "name": "stderr",
     "output_type": "stream",
     "text": [
      "[nltk_data] Downloading package stopwords to\n",
      "[nltk_data]     /Users/lukasburtscher/nltk_data...\n",
      "[nltk_data]   Package stopwords is already up-to-date!\n"
     ]
    },
    {
     "data": {
      "text/plain": [
       "True"
      ]
     },
     "execution_count": 70,
     "metadata": {},
     "output_type": "execute_result"
    }
   ],
   "source": [
    "import nltk\n",
    "import numpy as np\n",
    "import pandas as pd\n",
    "from gensim.models import LdaModel\n",
    "import gensim\n",
    "from gensim.corpora import Dictionary, MmCorpus\n",
    "import gensim.corpora as corpora\n",
    "import glob\n",
    "\n",
    "import re\n",
    "import numpy as np\n",
    "import pandas as  pd\n",
    "from pprint import pprint# Gensim\n",
    "import gensim\n",
    "import gensim.corpora as corpora\n",
    "from gensim.utils import simple_preprocess\n",
    "from gensim.models import CoherenceModel# spaCy for preprocessing\n",
    "import spacy# Plotting tools\n",
    "import pyLDAvis\n",
    "import pyLDAvis.gensim_models\n",
    "import matplotlib.pyplot as plt\n",
    "%matplotlib inline\n",
    "\n",
    "from sklearn.feature_extraction.text import TfidfVectorizer, CountVectorizer, TfidfTransformer\n",
    "\n",
    "import nltk\n",
    "nltk.download('stopwords')"
   ]
  },
  {
   "cell_type": "code",
   "execution_count": 71,
   "id": "c50a6a59-dd55-4cf9-b16b-679b7b3cf952",
   "metadata": {},
   "outputs": [
    {
     "data": {
      "text/html": [
       "<div>\n",
       "<style scoped>\n",
       "    .dataframe tbody tr th:only-of-type {\n",
       "        vertical-align: middle;\n",
       "    }\n",
       "\n",
       "    .dataframe tbody tr th {\n",
       "        vertical-align: top;\n",
       "    }\n",
       "\n",
       "    .dataframe thead th {\n",
       "        text-align: right;\n",
       "    }\n",
       "</style>\n",
       "<table border=\"1\" class=\"dataframe\">\n",
       "  <thead>\n",
       "    <tr style=\"text-align: right;\">\n",
       "      <th></th>\n",
       "      <th>ID_GodotObject</th>\n",
       "      <th>cluster_value</th>\n",
       "      <th>merged_text</th>\n",
       "    </tr>\n",
       "  </thead>\n",
       "  <tbody>\n",
       "    <tr>\n",
       "      <th>0</th>\n",
       "      <td>2000115059032</td>\n",
       "      <td>0</td>\n",
       "      <td>medizinisch_Personal Umgang Labor müssen Probe...</td>\n",
       "    </tr>\n",
       "    <tr>\n",
       "      <th>1</th>\n",
       "      <td>2000116325081</td>\n",
       "      <td>0</td>\n",
       "      <td>Ende Sicht Regierung setzen Maske bei Einkauf ...</td>\n",
       "    </tr>\n",
       "    <tr>\n",
       "      <th>2</th>\n",
       "      <td>2000116371728</td>\n",
       "      <td>0</td>\n",
       "      <td>Clemens Auer italienisch spanisch Verhältnis v...</td>\n",
       "    </tr>\n",
       "    <tr>\n",
       "      <th>3</th>\n",
       "      <td>2000116569218</td>\n",
       "      <td>0</td>\n",
       "      <td>sofort einkaufen maskieren erlauben Rewe verre...</td>\n",
       "    </tr>\n",
       "    <tr>\n",
       "      <th>4</th>\n",
       "      <td>2000116643454</td>\n",
       "      <td>0</td>\n",
       "      <td>lange Weg zurück dieser Land Locker geschäftsö...</td>\n",
       "    </tr>\n",
       "  </tbody>\n",
       "</table>\n",
       "</div>"
      ],
      "text/plain": [
       "   ID_GodotObject  cluster_value  \\\n",
       "0   2000115059032              0   \n",
       "1   2000116325081              0   \n",
       "2   2000116371728              0   \n",
       "3   2000116569218              0   \n",
       "4   2000116643454              0   \n",
       "\n",
       "                                         merged_text  \n",
       "0  medizinisch_Personal Umgang Labor müssen Probe...  \n",
       "1  Ende Sicht Regierung setzen Maske bei Einkauf ...  \n",
       "2  Clemens Auer italienisch spanisch Verhältnis v...  \n",
       "3  sofort einkaufen maskieren erlauben Rewe verre...  \n",
       "4  lange Weg zurück dieser Land Locker geschäftsö...  "
      ]
     },
     "execution_count": 71,
     "metadata": {},
     "output_type": "execute_result"
    }
   ],
   "source": [
    "df = pd.read_csv('data/feature/clusters/0_cluster.csv')\n",
    "df.head()"
   ]
  },
  {
   "cell_type": "code",
   "execution_count": null,
   "id": "63431d42-0a49-4bee-a2c5-977d3f633802",
   "metadata": {},
   "outputs": [],
   "source": []
  },
  {
   "cell_type": "code",
   "execution_count": 72,
   "id": "60f34cc0-32bb-45b5-9f58-56cd5a031e72",
   "metadata": {},
   "outputs": [
    {
     "name": "stderr",
     "output_type": "stream",
     "text": [
      "/var/folders/1_/83qhk9ps6fd0yym23nn9nfz00000gn/T/ipykernel_93571/493074900.py:18: FutureWarning: The frame.append method is deprecated and will be removed from pandas in a future version. Use pandas.concat instead.\n",
      "  df_clusters = df_clusters.append({'cluster' : c, 'text' : l}, ignore_index = True)\n",
      "/var/folders/1_/83qhk9ps6fd0yym23nn9nfz00000gn/T/ipykernel_93571/493074900.py:18: FutureWarning: The frame.append method is deprecated and will be removed from pandas in a future version. Use pandas.concat instead.\n",
      "  df_clusters = df_clusters.append({'cluster' : c, 'text' : l}, ignore_index = True)\n",
      "/var/folders/1_/83qhk9ps6fd0yym23nn9nfz00000gn/T/ipykernel_93571/493074900.py:18: FutureWarning: The frame.append method is deprecated and will be removed from pandas in a future version. Use pandas.concat instead.\n",
      "  df_clusters = df_clusters.append({'cluster' : c, 'text' : l}, ignore_index = True)\n",
      "/var/folders/1_/83qhk9ps6fd0yym23nn9nfz00000gn/T/ipykernel_93571/493074900.py:18: FutureWarning: The frame.append method is deprecated and will be removed from pandas in a future version. Use pandas.concat instead.\n",
      "  df_clusters = df_clusters.append({'cluster' : c, 'text' : l}, ignore_index = True)\n",
      "/var/folders/1_/83qhk9ps6fd0yym23nn9nfz00000gn/T/ipykernel_93571/493074900.py:18: FutureWarning: The frame.append method is deprecated and will be removed from pandas in a future version. Use pandas.concat instead.\n",
      "  df_clusters = df_clusters.append({'cluster' : c, 'text' : l}, ignore_index = True)\n"
     ]
    },
    {
     "data": {
      "text/html": [
       "<div>\n",
       "<style scoped>\n",
       "    .dataframe tbody tr th:only-of-type {\n",
       "        vertical-align: middle;\n",
       "    }\n",
       "\n",
       "    .dataframe tbody tr th {\n",
       "        vertical-align: top;\n",
       "    }\n",
       "\n",
       "    .dataframe thead th {\n",
       "        text-align: right;\n",
       "    }\n",
       "</style>\n",
       "<table border=\"1\" class=\"dataframe\">\n",
       "  <thead>\n",
       "    <tr style=\"text-align: right;\">\n",
       "      <th></th>\n",
       "      <th>cluster</th>\n",
       "      <th>text</th>\n",
       "    </tr>\n",
       "  </thead>\n",
       "  <tbody>\n",
       "    <tr>\n",
       "      <th>0</th>\n",
       "      <td>0</td>\n",
       "      <td>medizinisch_Personal Umgang Labor müssen Probe...</td>\n",
       "    </tr>\n",
       "    <tr>\n",
       "      <th>1</th>\n",
       "      <td>1</td>\n",
       "      <td>Coronavirus Maskenpflicht freie Arbeitsplatz S...</td>\n",
       "    </tr>\n",
       "    <tr>\n",
       "      <th>2</th>\n",
       "      <td>2</td>\n",
       "      <td>Einführung Maskenpflicht Regierung verschärfen...</td>\n",
       "    </tr>\n",
       "    <tr>\n",
       "      <th>3</th>\n",
       "      <td>3</td>\n",
       "      <td>Österreich Intensivstation Reproduktionsfaktor...</td>\n",
       "    </tr>\n",
       "    <tr>\n",
       "      <th>4</th>\n",
       "      <td>4</td>\n",
       "      <td>Anzeige Samstag Polizei nehmen fünf Person fes...</td>\n",
       "    </tr>\n",
       "  </tbody>\n",
       "</table>\n",
       "</div>"
      ],
      "text/plain": [
       "   cluster                                               text\n",
       "0        0  medizinisch_Personal Umgang Labor müssen Probe...\n",
       "1        1  Coronavirus Maskenpflicht freie Arbeitsplatz S...\n",
       "2        2  Einführung Maskenpflicht Regierung verschärfen...\n",
       "3        3  Österreich Intensivstation Reproduktionsfaktor...\n",
       "4        4  Anzeige Samstag Polizei nehmen fünf Person fes..."
      ]
     },
     "execution_count": 72,
     "metadata": {},
     "output_type": "execute_result"
    }
   ],
   "source": [
    "# Merge all text per cluster\n",
    "# Find all CSV files in the current directory\n",
    "filenames = glob.glob('data/feature/clusters/*.csv')\n",
    "\n",
    "# Create a list to store the dataframes\n",
    "df_clusters = pd.DataFrame()\n",
    "# Define a function that concatenates the text from a row\n",
    "def concat_text(row):\n",
    "    return ' '.join(row)\n",
    "\n",
    "# Loop over the CSV files\n",
    "for filename in filenames:\n",
    "    # Read the file into a dataframe\n",
    "    \n",
    "    df = pd.read_csv(filename)\n",
    "    l = ''.join((df['merged_text'].to_numpy()))\n",
    "    c = df['cluster_value'][0]\n",
    "    df_clusters = df_clusters.append({'cluster' : c, 'text' : l}, ignore_index = True)\n",
    "    \n",
    "df_clusters.sort_values(by=['cluster'], inplace=True)\n",
    "df_clusters.reset_index(drop=True, inplace=True)\n",
    "df_clusters.head()"
   ]
  },
  {
   "cell_type": "markdown",
   "id": "9477fb6c-8586-4826-8dd2-12e4ada80f07",
   "metadata": {},
   "source": [
    "It is generally not necessary to remove duplicate words from a text before calculating the term frequency-inverse document frequency (TF-IDF) scores for the words. The TF-IDF score of a word takes into account both the frequency of the word in the document (term frequency, or TF) and the inverse of the frequency of the word in the collection (inverse document frequency, or IDF).\n",
    "\n",
    "For example, consider the following two documents:\n",
    "\n",
    "Document 1: \"the cat sat on the mat\"\n",
    "Document 2: \"the cat sat on the mat\"\n",
    "\n",
    "The term frequency of \"the\" in both documents is 2, because it appears twice in each document. The inverse document frequency of \"the\" in this collection is 1, because it appears in both documents. Therefore, the TF-IDF score of \"the\" in both documents is 2 * 1 = 2.\n",
    "\n",
    "On the other hand, the term frequency of \"cat\" in both documents is 1, because it appears once in each document. The inverse document frequency of \"cat\" in this collection is 1, because it appears in both documents. Therefore, the TF-IDF score of \"cat\" in both documents is 1 * 1 = 1.\n",
    "\n",
    "As you can see, the TF-IDF scores of the words in the documents are the same, regardless of whether the words are duplicated or not. Therefore, it is not necessary to remove duplicate words from a text before calculating the TF-IDF scores."
   ]
  },
  {
   "cell_type": "code",
   "execution_count": 78,
   "id": "0a104a75-7f38-4bc8-9d02-35ffcfd6a4e5",
   "metadata": {},
   "outputs": [
    {
     "name": "stderr",
     "output_type": "stream",
     "text": [
      "/opt/homebrew/lib/python3.10/site-packages/sklearn/utils/deprecation.py:87: FutureWarning: Function get_feature_names is deprecated; get_feature_names is deprecated in 1.0 and will be removed in 1.2. Please use get_feature_names_out instead.\n",
      "  warnings.warn(msg, category=FutureWarning)\n"
     ]
    },
    {
     "data": {
      "text/html": [
       "<div>\n",
       "<style scoped>\n",
       "    .dataframe tbody tr th:only-of-type {\n",
       "        vertical-align: middle;\n",
       "    }\n",
       "\n",
       "    .dataframe tbody tr th {\n",
       "        vertical-align: top;\n",
       "    }\n",
       "\n",
       "    .dataframe thead th {\n",
       "        text-align: right;\n",
       "    }\n",
       "</style>\n",
       "<table border=\"1\" class=\"dataframe\">\n",
       "  <thead>\n",
       "    <tr style=\"text-align: right;\">\n",
       "      <th></th>\n",
       "      <th>index</th>\n",
       "      <th>0</th>\n",
       "      <th>1</th>\n",
       "      <th>2</th>\n",
       "      <th>3</th>\n",
       "      <th>4</th>\n",
       "    </tr>\n",
       "  </thead>\n",
       "  <tbody>\n",
       "    <tr>\n",
       "      <th>0</th>\n",
       "      <td>0800</td>\n",
       "      <td>0.000000</td>\n",
       "      <td>0.000000</td>\n",
       "      <td>0.000000</td>\n",
       "      <td>0.000000</td>\n",
       "      <td>0.010141</td>\n",
       "    </tr>\n",
       "    <tr>\n",
       "      <th>1</th>\n",
       "      <td>0800_555</td>\n",
       "      <td>0.006140</td>\n",
       "      <td>0.000000</td>\n",
       "      <td>0.045901</td>\n",
       "      <td>0.000000</td>\n",
       "      <td>0.000000</td>\n",
       "    </tr>\n",
       "    <tr>\n",
       "      <th>2</th>\n",
       "      <td>10</td>\n",
       "      <td>0.005440</td>\n",
       "      <td>0.015462</td>\n",
       "      <td>0.003389</td>\n",
       "      <td>0.015549</td>\n",
       "      <td>0.004832</td>\n",
       "    </tr>\n",
       "    <tr>\n",
       "      <th>3</th>\n",
       "      <td>100</td>\n",
       "      <td>0.020388</td>\n",
       "      <td>0.000000</td>\n",
       "      <td>0.014288</td>\n",
       "      <td>0.000000</td>\n",
       "      <td>0.033959</td>\n",
       "    </tr>\n",
       "    <tr>\n",
       "      <th>4</th>\n",
       "      <td>102</td>\n",
       "      <td>0.000000</td>\n",
       "      <td>0.000000</td>\n",
       "      <td>0.007112</td>\n",
       "      <td>0.000000</td>\n",
       "      <td>0.000000</td>\n",
       "    </tr>\n",
       "  </tbody>\n",
       "</table>\n",
       "</div>"
      ],
      "text/plain": [
       "      index         0         1         2         3         4\n",
       "0      0800  0.000000  0.000000  0.000000  0.000000  0.010141\n",
       "1  0800_555  0.006140  0.000000  0.045901  0.000000  0.000000\n",
       "2        10  0.005440  0.015462  0.003389  0.015549  0.004832\n",
       "3       100  0.020388  0.000000  0.014288  0.000000  0.033959\n",
       "4       102  0.000000  0.000000  0.007112  0.000000  0.000000"
      ]
     },
     "execution_count": 78,
     "metadata": {},
     "output_type": "execute_result"
    }
   ],
   "source": [
    "#TF IDS Score for labeling the clusters\n",
    "# settings that you use for count vectorizer will go here \n",
    "tfidf_vectorizer=TfidfVectorizer(use_idf=True) \n",
    "# just send in all your docs here \n",
    "tfidf_vectorizer_vectors=tfidf_vectorizer.fit_transform(df_clusters['text'])\n",
    "\n",
    "# Convert the sparse matrix to a dense array\n",
    "dense_array = tfidf_vectorizer_vectors.toarray()\n",
    "\n",
    "# Get the feature names from the TfidfVectorizer object\n",
    "feature_names = tfidf_vectorizer.get_feature_names()\n",
    "\n",
    "# Create a dataframe from the dense array\n",
    "df = pd.DataFrame(dense_array, columns=feature_names).T.reset_index()\n",
    "\n",
    "\n",
    "df.head()\n",
    "\n"
   ]
  },
  {
   "cell_type": "code",
   "execution_count": 80,
   "id": "bc6ed44c-c63e-4e12-8159-c7ad40eb95ef",
   "metadata": {},
   "outputs": [],
   "source": [
    "df.to_csv('./data/feature/tfids_cluster.csv', encoding='utf-8', index=False)"
   ]
  },
  {
   "cell_type": "code",
   "execution_count": null,
   "id": "1bd09eff-16eb-4a68-931f-e781b8368227",
   "metadata": {},
   "outputs": [],
   "source": []
  },
  {
   "cell_type": "code",
   "execution_count": null,
   "id": "3dea3838-e051-4d65-84a3-dbb0b6221d37",
   "metadata": {},
   "outputs": [],
   "source": []
  },
  {
   "cell_type": "code",
   "execution_count": null,
   "id": "d39ee740-014c-4cef-9888-382beb001d85",
   "metadata": {},
   "outputs": [],
   "source": []
  },
  {
   "cell_type": "code",
   "execution_count": null,
   "id": "ef952bbe-16ff-4bc4-8ac5-5bde1f31044a",
   "metadata": {},
   "outputs": [],
   "source": []
  }
 ],
 "metadata": {
  "kernelspec": {
   "display_name": "Python 3 (ipykernel)",
   "language": "python",
   "name": "python3"
  },
  "language_info": {
   "codemirror_mode": {
    "name": "ipython",
    "version": 3
   },
   "file_extension": ".py",
   "mimetype": "text/x-python",
   "name": "python",
   "nbconvert_exporter": "python",
   "pygments_lexer": "ipython3",
   "version": "3.10.8"
  }
 },
 "nbformat": 4,
 "nbformat_minor": 5
}
